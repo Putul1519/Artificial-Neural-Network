{
 "cells": [
  {
   "cell_type": "markdown",
   "id": "39dc5120",
   "metadata": {},
   "source": [
    "# Perceptron"
   ]
  },
  {
   "cell_type": "code",
   "execution_count": 4,
   "id": "e6cc5b42",
   "metadata": {},
   "outputs": [
    {
     "data": {
      "text/plain": [
       "array([ True, False])"
      ]
     },
     "execution_count": 4,
     "metadata": {},
     "output_type": "execute_result"
    }
   ],
   "source": [
    "import numpy as np\n",
    "from sklearn.datasets import load_iris\n",
    "from sklearn.linear_model import Perceptron\n",
    "iris=load_iris(as_frame=True)\n",
    "X=iris.data[['petal length (cm)','petal width (cm)']].values\n",
    "y=(iris.target==0)\n",
    "per_clf=Perceptron(random_state=42)\n",
    "per_clf.fit(X,y)\n",
    "X_new=[[2,0.5],[3,1]]\n",
    "y_pred=per_clf.predict(X_new)\n",
    "y_pred"
   ]
  },
  {
   "cell_type": "markdown",
   "id": "858a64fe",
   "metadata": {},
   "source": [
    "# Sequential API"
   ]
  },
  {
   "cell_type": "markdown",
   "id": "e84d6bbd",
   "metadata": {},
   "source": [
    "Building an Image Classifier using sequential API"
   ]
  },
  {
   "cell_type": "code",
   "execution_count": 5,
   "id": "61fc7d42",
   "metadata": {},
   "outputs": [],
   "source": [
    "import tensorflow as tf"
   ]
  },
  {
   "cell_type": "code",
   "execution_count": 6,
   "id": "f9648956",
   "metadata": {},
   "outputs": [
    {
     "name": "stdout",
     "output_type": "stream",
     "text": [
      "Downloading data from https://storage.googleapis.com/tensorflow/tf-keras-datasets/train-labels-idx1-ubyte.gz\n",
      "29515/29515 [==============================] - 0s 5us/step\n",
      "Downloading data from https://storage.googleapis.com/tensorflow/tf-keras-datasets/train-images-idx3-ubyte.gz\n",
      "26421880/26421880 [==============================] - 14s 1us/step\n",
      "Downloading data from https://storage.googleapis.com/tensorflow/tf-keras-datasets/t10k-labels-idx1-ubyte.gz\n",
      "5148/5148 [==============================] - 0s 0s/step\n",
      "Downloading data from https://storage.googleapis.com/tensorflow/tf-keras-datasets/t10k-images-idx3-ubyte.gz\n",
      "4422102/4422102 [==============================] - 2s 0us/step\n"
     ]
    }
   ],
   "source": [
    "fashion_mnist=tf.keras.datasets.fashion_mnist.load_data()"
   ]
  },
  {
   "cell_type": "code",
   "execution_count": 12,
   "id": "998ae4fb",
   "metadata": {},
   "outputs": [
    {
     "data": {
      "text/plain": [
       "2"
      ]
     },
     "execution_count": 12,
     "metadata": {},
     "output_type": "execute_result"
    }
   ],
   "source": [
    "len(fashion_mnist)"
   ]
  },
  {
   "cell_type": "code",
   "execution_count": 35,
   "id": "94251ea6",
   "metadata": {},
   "outputs": [],
   "source": [
    "(X_train_full,y_train_full),(X_test,y_test)=fashion_mnist\n",
    "X_train,y_train=X_train_full[:-5000],y_train_full[:-5000]\n",
    "X_val,y_val=X_train_full[-5000:],y_train_full[-5000:]"
   ]
  },
  {
   "cell_type": "code",
   "execution_count": 36,
   "id": "47a163d2",
   "metadata": {},
   "outputs": [
    {
     "data": {
      "text/plain": [
       "(55000, 28, 28)"
      ]
     },
     "execution_count": 36,
     "metadata": {},
     "output_type": "execute_result"
    }
   ],
   "source": [
    "#keras load this dataset as 28*28 array rather then 1D array of size 784\n",
    "#pixel intensity are represented as integers (from 0 to 255) rather then floats(from 0.0 to 255.0)\n",
    "X_train.shape"
   ]
  },
  {
   "cell_type": "code",
   "execution_count": 37,
   "id": "7d7deb5c",
   "metadata": {},
   "outputs": [
    {
     "data": {
      "text/plain": [
       "(5000, 28, 28)"
      ]
     },
     "execution_count": 37,
     "metadata": {},
     "output_type": "execute_result"
    }
   ],
   "source": [
    "X_val.shape"
   ]
  },
  {
   "cell_type": "code",
   "execution_count": 38,
   "id": "9eb9c34b",
   "metadata": {},
   "outputs": [
    {
     "data": {
      "text/plain": [
       "array([9, 2, 1, ..., 8, 1, 5], dtype=uint8)"
      ]
     },
     "execution_count": 38,
     "metadata": {},
     "output_type": "execute_result"
    }
   ],
   "source": [
    "y_test"
   ]
  },
  {
   "cell_type": "code",
   "execution_count": 39,
   "id": "f3ab8837",
   "metadata": {},
   "outputs": [],
   "source": [
    "#scalling pixel intensity down to range(0-1) by dividing them 255.0\n",
    "X_train,X_val,X_test=X_train/255.,X_val/255.,X_test/255."
   ]
  },
  {
   "cell_type": "code",
   "execution_count": 40,
   "id": "991b0d22",
   "metadata": {},
   "outputs": [],
   "source": [
    "class_names=['Tshirt/top','Trouser','Pullover','Dress','Coat','Sandal','Shirt','Sneaker','Bag','Ankel Boot']"
   ]
  },
  {
   "cell_type": "code",
   "execution_count": 41,
   "id": "74584d72",
   "metadata": {},
   "outputs": [
    {
     "data": {
      "text/plain": [
       "'Ankel Boot'"
      ]
     },
     "execution_count": 41,
     "metadata": {},
     "output_type": "execute_result"
    }
   ],
   "source": [
    "class_names[y_train[0]]"
   ]
  },
  {
   "cell_type": "code",
   "execution_count": 42,
   "id": "06a89e3d",
   "metadata": {},
   "outputs": [],
   "source": [
    "tf.random.set_seed(42)\n",
    "model=tf.keras.Sequential()\n",
    "model.add(tf.keras.layers.Input(shape=[28,28]))\n",
    "model.add(tf.keras.layers.Flatten())\n",
    "model.add(tf.keras.layers.Dense(300,activation='relu'))#hidden layer 1- 300 neurons\n",
    "model.add(tf.keras.layers.Dense(100,activation='relu'))\n",
    "model.add(tf.keras.layers.Dense(10,activation='softmax'))"
   ]
  },
  {
   "cell_type": "code",
   "execution_count": 43,
   "id": "0135c699",
   "metadata": {},
   "outputs": [
    {
     "name": "stdout",
     "output_type": "stream",
     "text": [
      "Model: \"sequential_1\"\n",
      "_________________________________________________________________\n",
      " Layer (type)                Output Shape              Param #   \n",
      "=================================================================\n",
      " flatten_1 (Flatten)         (None, 784)               0         \n",
      "                                                                 \n",
      " dense_3 (Dense)             (None, 300)               235500    \n",
      "                                                                 \n",
      " dense_4 (Dense)             (None, 100)               30100     \n",
      "                                                                 \n",
      " dense_5 (Dense)             (None, 10)                1010      \n",
      "                                                                 \n",
      "=================================================================\n",
      "Total params: 266,610\n",
      "Trainable params: 266,610\n",
      "Non-trainable params: 0\n",
      "_________________________________________________________________\n"
     ]
    }
   ],
   "source": [
    "model.summary()"
   ]
  },
  {
   "cell_type": "code",
   "execution_count": 55,
   "id": "935ab677",
   "metadata": {},
   "outputs": [
    {
     "data": {
      "text/plain": [
       "(55000,)"
      ]
     },
     "execution_count": 55,
     "metadata": {},
     "output_type": "execute_result"
    }
   ],
   "source": [
    "X_train.shape\n",
    "y_train.shape"
   ]
  },
  {
   "cell_type": "code",
   "execution_count": 45,
   "id": "e413238d",
   "metadata": {},
   "outputs": [
    {
     "data": {
      "text/plain": [
       "[<keras.layers.reshaping.flatten.Flatten at 0x1e9354f8d30>,\n",
       " <keras.layers.core.dense.Dense at 0x1e9355ef730>,\n",
       " <keras.layers.core.dense.Dense at 0x1e9359f7610>,\n",
       " <keras.layers.core.dense.Dense at 0x1e9359f74f0>]"
      ]
     },
     "execution_count": 45,
     "metadata": {},
     "output_type": "execute_result"
    }
   ],
   "source": [
    "model.layers"
   ]
  },
  {
   "cell_type": "code",
   "execution_count": 46,
   "id": "ef672c7c",
   "metadata": {},
   "outputs": [
    {
     "data": {
      "text/plain": [
       "(784, 300)"
      ]
     },
     "execution_count": 46,
     "metadata": {},
     "output_type": "execute_result"
    }
   ],
   "source": [
    "#get_weights and set_weights\n",
    "hidden1=model.layers[1]\n",
    "weights,biases=hidden1.get_weights()\n",
    "weights.shape"
   ]
  },
  {
   "cell_type": "code",
   "execution_count": 47,
   "id": "b4cee800",
   "metadata": {},
   "outputs": [
    {
     "data": {
      "text/plain": [
       "(300,)"
      ]
     },
     "execution_count": 47,
     "metadata": {},
     "output_type": "execute_result"
    }
   ],
   "source": [
    "biases.shape"
   ]
  },
  {
   "cell_type": "code",
   "execution_count": 48,
   "id": "e150be14",
   "metadata": {},
   "outputs": [],
   "source": [
    "#compile the model\n",
    "model.compile(loss='sparse_categorical_crossentropy',optimizer='sgd',metrics=['accuracy'])"
   ]
  },
  {
   "cell_type": "code",
   "execution_count": 49,
   "id": "88527424",
   "metadata": {},
   "outputs": [
    {
     "name": "stdout",
     "output_type": "stream",
     "text": [
      "Epoch 1/30\n",
      "1719/1719 [==============================] - 5s 3ms/step - loss: 0.7113 - accuracy: 0.7623 - val_loss: 0.5064 - val_accuracy: 0.8290\n",
      "Epoch 2/30\n",
      "1719/1719 [==============================] - 5s 3ms/step - loss: 0.4860 - accuracy: 0.8317 - val_loss: 0.4608 - val_accuracy: 0.8328\n",
      "Epoch 3/30\n",
      "1719/1719 [==============================] - 5s 3ms/step - loss: 0.4387 - accuracy: 0.8461 - val_loss: 0.4174 - val_accuracy: 0.8534\n",
      "Epoch 4/30\n",
      "1719/1719 [==============================] - 5s 3ms/step - loss: 0.4129 - accuracy: 0.8553 - val_loss: 0.3922 - val_accuracy: 0.8604\n",
      "Epoch 5/30\n",
      "1719/1719 [==============================] - 5s 3ms/step - loss: 0.3915 - accuracy: 0.8622 - val_loss: 0.3877 - val_accuracy: 0.8602\n",
      "Epoch 6/30\n",
      "1719/1719 [==============================] - 5s 3ms/step - loss: 0.3748 - accuracy: 0.8679 - val_loss: 0.3876 - val_accuracy: 0.8624\n",
      "Epoch 7/30\n",
      "1719/1719 [==============================] - 5s 3ms/step - loss: 0.3620 - accuracy: 0.8716 - val_loss: 0.3672 - val_accuracy: 0.8696\n",
      "Epoch 8/30\n",
      "1719/1719 [==============================] - 5s 3ms/step - loss: 0.3503 - accuracy: 0.8764 - val_loss: 0.3678 - val_accuracy: 0.8684\n",
      "Epoch 9/30\n",
      "1719/1719 [==============================] - 5s 3ms/step - loss: 0.3390 - accuracy: 0.8799 - val_loss: 0.3459 - val_accuracy: 0.8754\n",
      "Epoch 10/30\n",
      "1719/1719 [==============================] - 5s 3ms/step - loss: 0.3289 - accuracy: 0.8821 - val_loss: 0.3452 - val_accuracy: 0.8768\n",
      "Epoch 11/30\n",
      "1719/1719 [==============================] - 7s 4ms/step - loss: 0.3200 - accuracy: 0.8864 - val_loss: 0.3640 - val_accuracy: 0.8656\n",
      "Epoch 12/30\n",
      "1719/1719 [==============================] - 6s 3ms/step - loss: 0.3119 - accuracy: 0.8892 - val_loss: 0.3408 - val_accuracy: 0.8760\n",
      "Epoch 13/30\n",
      "1719/1719 [==============================] - 5s 3ms/step - loss: 0.3044 - accuracy: 0.8916 - val_loss: 0.3256 - val_accuracy: 0.8812\n",
      "Epoch 14/30\n",
      "1719/1719 [==============================] - 5s 3ms/step - loss: 0.2979 - accuracy: 0.8932 - val_loss: 0.3340 - val_accuracy: 0.8798\n",
      "Epoch 15/30\n",
      "1719/1719 [==============================] - 5s 3ms/step - loss: 0.2918 - accuracy: 0.8959 - val_loss: 0.3342 - val_accuracy: 0.8814\n",
      "Epoch 16/30\n",
      "1719/1719 [==============================] - 5s 3ms/step - loss: 0.2845 - accuracy: 0.8982 - val_loss: 0.3277 - val_accuracy: 0.8800\n",
      "Epoch 17/30\n",
      "1719/1719 [==============================] - 5s 3ms/step - loss: 0.2800 - accuracy: 0.8991 - val_loss: 0.3283 - val_accuracy: 0.8834\n",
      "Epoch 18/30\n",
      "1719/1719 [==============================] - 5s 3ms/step - loss: 0.2742 - accuracy: 0.9002 - val_loss: 0.3214 - val_accuracy: 0.8828\n",
      "Epoch 19/30\n",
      "1719/1719 [==============================] - 5s 3ms/step - loss: 0.2691 - accuracy: 0.9029 - val_loss: 0.3455 - val_accuracy: 0.8734\n",
      "Epoch 20/30\n",
      "1719/1719 [==============================] - 5s 3ms/step - loss: 0.2642 - accuracy: 0.9058 - val_loss: 0.3183 - val_accuracy: 0.8832\n",
      "Epoch 21/30\n",
      "1719/1719 [==============================] - 5s 3ms/step - loss: 0.2592 - accuracy: 0.9070 - val_loss: 0.3133 - val_accuracy: 0.8838\n",
      "Epoch 22/30\n",
      "1719/1719 [==============================] - 5s 3ms/step - loss: 0.2541 - accuracy: 0.9081 - val_loss: 0.3130 - val_accuracy: 0.8838\n",
      "Epoch 23/30\n",
      "1719/1719 [==============================] - 5s 3ms/step - loss: 0.2500 - accuracy: 0.9100 - val_loss: 0.3426 - val_accuracy: 0.8742\n",
      "Epoch 24/30\n",
      "1719/1719 [==============================] - 6s 3ms/step - loss: 0.2449 - accuracy: 0.9119 - val_loss: 0.3233 - val_accuracy: 0.8850\n",
      "Epoch 25/30\n",
      "1719/1719 [==============================] - 5s 3ms/step - loss: 0.2410 - accuracy: 0.9125 - val_loss: 0.3206 - val_accuracy: 0.8826\n",
      "Epoch 26/30\n",
      "1719/1719 [==============================] - 6s 4ms/step - loss: 0.2376 - accuracy: 0.9153 - val_loss: 0.3123 - val_accuracy: 0.8854\n",
      "Epoch 27/30\n",
      "1719/1719 [==============================] - 6s 4ms/step - loss: 0.2322 - accuracy: 0.9157 - val_loss: 0.3224 - val_accuracy: 0.8864\n",
      "Epoch 28/30\n",
      "1719/1719 [==============================] - 6s 4ms/step - loss: 0.2293 - accuracy: 0.9175 - val_loss: 0.3116 - val_accuracy: 0.8898\n",
      "Epoch 29/30\n",
      "1719/1719 [==============================] - 5s 3ms/step - loss: 0.2253 - accuracy: 0.9189 - val_loss: 0.3167 - val_accuracy: 0.8826\n",
      "Epoch 30/30\n",
      "1719/1719 [==============================] - 5s 3ms/step - loss: 0.2216 - accuracy: 0.9213 - val_loss: 0.3076 - val_accuracy: 0.8862\n"
     ]
    }
   ],
   "source": [
    "history=model.fit(X_train,y_train,epochs=30,validation_data=(X_val,y_val))\n",
    "#default batch size=32, 55000/32=1719 batches per epochs"
   ]
  },
  {
   "cell_type": "code",
   "execution_count": 50,
   "id": "4d15fed3",
   "metadata": {},
   "outputs": [
    {
     "data": {
      "image/png": "[encoded data removed]",
      "text/plain": [
       "<Figure size 576x360 with 1 Axes>"
      ]
     },
     "metadata": {
      "needs_background": "light"
     },
     "output_type": "display_data"
    }
   ],
   "source": [
    "import matplotlib.pyplot as plt\n",
    "import pandas as pd\n",
    "pd.DataFrame(history.history).plot(\n",
    "    figsize=(8,5),xlim=[0,29],ylim=[0,1],grid=True,xlabel='Epoch',\n",
    "    style=[\"r--\",\"r--.\",\"b-\",\"b-*\"]\n",
    ")\n",
    "plt.show()"
   ]
  },
  {
   "cell_type": "code",
   "execution_count": 51,
   "id": "3e0ecdd9",
   "metadata": {},
   "outputs": [
    {
     "name": "stdout",
     "output_type": "stream",
     "text": [
      "313/313 [==============================] - 1s 3ms/step - loss: 0.3269 - accuracy: 0.8858\n"
     ]
    },
    {
     "data": {
      "text/plain": [
       "[0.32689350843429565, 0.8858000040054321]"
      ]
     },
     "execution_count": 51,
     "metadata": {},
     "output_type": "execute_result"
    }
   ],
   "source": [
    "model.evaluate(X_test,y_test)"
   ]
  },
  {
   "cell_type": "code",
   "execution_count": 52,
   "id": "1b0d7f29",
   "metadata": {},
   "outputs": [
    {
     "name": "stdout",
     "output_type": "stream",
     "text": [
      "1/1 [==============================] - 0s 190ms/step\n"
     ]
    },
    {
     "data": {
      "text/plain": [
       "array([[0.  , 0.  , 0.  , 0.  , 0.  , 0.01, 0.  , 0.02, 0.  , 0.97],\n",
       "       [0.  , 0.  , 1.  , 0.  , 0.  , 0.  , 0.  , 0.  , 0.  , 0.  ],\n",
       "       [0.  , 1.  , 0.  , 0.  , 0.  , 0.  , 0.  , 0.  , 0.  , 0.  ]],\n",
       "      dtype=float32)"
      ]
     },
     "execution_count": 52,
     "metadata": {},
     "output_type": "execute_result"
    }
   ],
   "source": [
    "#using the model to make predictions\n",
    "X_new=X_test[:3]\n",
    "y_proba=model.predict(X_new)\n",
    "y_proba.round(2)"
   ]
  },
  {
   "cell_type": "code",
   "execution_count": 53,
   "id": "74deef03",
   "metadata": {},
   "outputs": [
    {
     "data": {
      "text/plain": [
       "array([9, 2, 1], dtype=int64)"
      ]
     },
     "execution_count": 53,
     "metadata": {},
     "output_type": "execute_result"
    }
   ],
   "source": [
    "import numpy as np\n",
    "y_pred=y_proba.argmax(axis=1)\n",
    "y_pred"
   ]
  },
  {
   "cell_type": "code",
   "execution_count": 54,
   "id": "61f93ebe",
   "metadata": {},
   "outputs": [
    {
     "data": {
      "text/plain": [
       "array(['Ankel Boot', 'Pullover', 'Trouser'], dtype='<U10')"
      ]
     },
     "execution_count": 54,
     "metadata": {},
     "output_type": "execute_result"
    }
   ],
   "source": [
    "np.array(class_names)[y_pred]"
   ]
  },
  {
   "cell_type": "markdown",
   "id": "6bc07bf3",
   "metadata": {},
   "source": [
    "# MLP Using the Sequential API"
   ]
  },
  {
   "cell_type": "code",
   "execution_count": 56,
   "id": "73515ec0",
   "metadata": {},
   "outputs": [
    {
     "name": "stdout",
     "output_type": "stream",
     "text": [
      "Epoch 1/20\n",
      "1719/1719 [==============================] - 7s 3ms/step - loss: 8.6023 - root_mean_squared_error: 2.9330 - val_loss: 8.4174 - val_root_mean_squared_error: 2.9014\n",
      "Epoch 2/20\n",
      "1719/1719 [==============================] - 6s 3ms/step - loss: 8.3041 - root_mean_squared_error: 2.8817 - val_loss: 8.3922 - val_root_mean_squared_error: 2.8971\n",
      "Epoch 3/20\n",
      "1719/1719 [==============================] - 6s 3ms/step - loss: 8.2880 - root_mean_squared_error: 2.8789 - val_loss: 8.3967 - val_root_mean_squared_error: 2.8979\n",
      "Epoch 4/20\n",
      "1719/1719 [==============================] - 6s 3ms/step - loss: 8.2825 - root_mean_squared_error: 2.8779 - val_loss: 8.4708 - val_root_mean_squared_error: 2.9106\n",
      "Epoch 5/20\n",
      "1719/1719 [==============================] - 6s 4ms/step - loss: 8.2762 - root_mean_squared_error: 2.8769 - val_loss: 8.3932 - val_root_mean_squared_error: 2.8973\n",
      "Epoch 6/20\n",
      "1719/1719 [==============================] - 6s 4ms/step - loss: 8.2660 - root_mean_squared_error: 2.8751 - val_loss: 8.3683 - val_root_mean_squared_error: 2.8930\n",
      "Epoch 7/20\n",
      "1719/1719 [==============================] - 6s 3ms/step - loss: 8.2699 - root_mean_squared_error: 2.8757 - val_loss: 8.3791 - val_root_mean_squared_error: 2.8949\n",
      "Epoch 8/20\n",
      "1719/1719 [==============================] - 6s 3ms/step - loss: 8.2619 - root_mean_squared_error: 2.8743 - val_loss: 8.3674 - val_root_mean_squared_error: 2.8928\n",
      "Epoch 9/20\n",
      "1719/1719 [==============================] - 6s 3ms/step - loss: 8.2575 - root_mean_squared_error: 2.8736 - val_loss: 8.3676 - val_root_mean_squared_error: 2.8929\n",
      "Epoch 10/20\n",
      "1719/1719 [==============================] - 6s 3ms/step - loss: 8.2550 - root_mean_squared_error: 2.8732 - val_loss: 8.3796 - val_root_mean_squared_error: 2.8949\n",
      "Epoch 11/20\n",
      "1719/1719 [==============================] - 6s 3ms/step - loss: 8.2544 - root_mean_squared_error: 2.8730 - val_loss: 8.3696 - val_root_mean_squared_error: 2.8932\n",
      "Epoch 12/20\n",
      "1719/1719 [==============================] - 6s 3ms/step - loss: 8.2509 - root_mean_squared_error: 2.8725 - val_loss: 8.3981 - val_root_mean_squared_error: 2.8981\n",
      "Epoch 13/20\n",
      "1719/1719 [==============================] - 6s 4ms/step - loss: 8.2504 - root_mean_squared_error: 2.8724 - val_loss: 8.4110 - val_root_mean_squared_error: 2.9003\n",
      "Epoch 14/20\n",
      "1719/1719 [==============================] - 6s 4ms/step - loss: 8.2486 - root_mean_squared_error: 2.8721 - val_loss: 8.3659 - val_root_mean_squared_error: 2.8926\n",
      "Epoch 15/20\n",
      "1719/1719 [==============================] - 6s 3ms/step - loss: 8.2490 - root_mean_squared_error: 2.8721 - val_loss: 8.3663 - val_root_mean_squared_error: 2.8926\n",
      "Epoch 16/20\n",
      "1719/1719 [==============================] - 6s 3ms/step - loss: 8.2468 - root_mean_squared_error: 2.8717 - val_loss: 8.3670 - val_root_mean_squared_error: 2.8928\n",
      "Epoch 17/20\n",
      "1719/1719 [==============================] - 6s 3ms/step - loss: 8.2458 - root_mean_squared_error: 2.8716 - val_loss: 8.3888 - val_root_mean_squared_error: 2.8965\n",
      "Epoch 18/20\n",
      "1719/1719 [==============================] - 6s 3ms/step - loss: 8.2475 - root_mean_squared_error: 2.8718 - val_loss: 8.3660 - val_root_mean_squared_error: 2.8926\n",
      "Epoch 19/20\n",
      "1719/1719 [==============================] - 6s 3ms/step - loss: 8.2467 - root_mean_squared_error: 2.8717 - val_loss: 8.3671 - val_root_mean_squared_error: 2.8928\n",
      "Epoch 20/20\n",
      "1719/1719 [==============================] - 6s 3ms/step - loss: 8.2477 - root_mean_squared_error: 2.8719 - val_loss: 8.3658 - val_root_mean_squared_error: 2.8925\n",
      "313/313 [==============================] - 0s 1ms/step - loss: 8.2479 - root_mean_squared_error: 2.8719\n",
      "8.247941017150879\n",
      "2.871917963027954\n",
      "1/1 [==============================] - 0s 139ms/step\n"
     ]
    },
    {
     "data": {
      "text/plain": [
       "array([[[4.5152597],\n",
       "        [4.5152597],\n",
       "        [4.5152597],\n",
       "        [4.5152597],\n",
       "        [4.5152597],\n",
       "        [4.5152597],\n",
       "        [4.5152597],\n",
       "        [4.519934 ],\n",
       "        [4.527933 ],\n",
       "        [4.52651  ],\n",
       "        [4.5668945],\n",
       "        [4.56307  ],\n",
       "        [4.570861 ],\n",
       "        [4.578683 ],\n",
       "        [4.584017 ],\n",
       "        [4.571027 ],\n",
       "        [4.566194 ],\n",
       "        [4.558568 ],\n",
       "        [4.563426 ],\n",
       "        [4.600623 ],\n",
       "        [4.5921655],\n",
       "        [4.5550456],\n",
       "        [4.5152597],\n",
       "        [4.5152597],\n",
       "        [4.5152597],\n",
       "        [4.5152597],\n",
       "        [4.5152597],\n",
       "        [4.5152597]],\n",
       "\n",
       "       [[4.499804 ],\n",
       "        [4.389    ],\n",
       "        [4.3992167],\n",
       "        [4.4118624],\n",
       "        [4.426511 ],\n",
       "        [4.484551 ],\n",
       "        [4.446469 ],\n",
       "        [4.4825735],\n",
       "        [4.494585 ],\n",
       "        [4.4714346],\n",
       "        [4.4356728],\n",
       "        [4.4661355],\n",
       "        [4.4664145],\n",
       "        [4.4664145],\n",
       "        [4.4664145],\n",
       "        [4.4664145],\n",
       "        [4.4664145],\n",
       "        [4.4655957],\n",
       "        [4.4640126],\n",
       "        [4.4556565],\n",
       "        [4.4397297],\n",
       "        [4.42634  ],\n",
       "        [4.4248137],\n",
       "        [4.4077234],\n",
       "        [4.4080396],\n",
       "        [4.451303 ],\n",
       "        [4.456827 ],\n",
       "        [4.4432907]],\n",
       "\n",
       "       [[4.41809  ],\n",
       "        [4.394664 ],\n",
       "        [4.397843 ],\n",
       "        [4.3961244],\n",
       "        [4.396059 ],\n",
       "        [4.394925 ],\n",
       "        [4.3945146],\n",
       "        [4.392048 ],\n",
       "        [4.3807235],\n",
       "        [4.3862514],\n",
       "        [4.3863573],\n",
       "        [4.3840365],\n",
       "        [4.381573 ],\n",
       "        [4.384097 ],\n",
       "        [4.383662 ],\n",
       "        [4.376684 ],\n",
       "        [4.3762636],\n",
       "        [4.3789845],\n",
       "        [4.373244 ],\n",
       "        [4.366149 ],\n",
       "        [4.3693624],\n",
       "        [4.369094 ],\n",
       "        [4.3696127],\n",
       "        [4.3713474],\n",
       "        [4.371268 ],\n",
       "        [4.3802466],\n",
       "        [4.3810663],\n",
       "        [4.4358926]]], dtype=float32)"
      ]
     },
     "execution_count": 56,
     "metadata": {},
     "output_type": "execute_result"
    }
   ],
   "source": [
    "tf.random.set_seed(42)\n",
    "norm_layer=tf.keras.layers.Normalization(input_shape=X_train.shape[1:])\n",
    "model=tf.keras.Sequential([\n",
    "    norm_layer,\n",
    "    tf.keras.layers.Dense(50,activation='relu'),\n",
    "    tf.keras.layers.Dense(50,activation='relu'),\n",
    "    tf.keras.layers.Dense(50,activation='relu'),\n",
    "    tf.keras.layers.Dense(1)\n",
    "])\n",
    "optimizer=tf.keras.optimizers.Adam(learning_rate=1e-3)\n",
    "model.compile(loss='mse',optimizer=optimizer,metrics=[\"RootMeanSquaredError\"])\n",
    "norm_layer.adapt(X_train)\n",
    "history=model.fit(X_train,y_train,epochs=20,validation_data=(X_val,y_val))\n",
    "mse_test,rmse_test=model.evaluate(X_test,y_test)\n",
    "print(mse_test)\n",
    "print(rmse_test)\n",
    "X_new=X_test[:3]\n",
    "y_pred=model.predict(X_new)\n",
    "y_pred\n"
   ]
  },
  {
   "cell_type": "code",
   "execution_count": 58,
   "id": "a441ec95",
   "metadata": {},
   "outputs": [
    {
     "name": "stdout",
     "output_type": "stream",
     "text": [
      "8.247941017150879\n",
      "2.871917963027954\n"
     ]
    }
   ],
   "source": [
    "print(mse_test)\n",
    "print(rmse_test)"
   ]
  }
 ],
 "metadata": {
  "kernelspec": {
   "display_name": "Python 3 (ipykernel)",
   "language": "python",
   "name": "python3"
  },
  "language_info": {
   "codemirror_mode": {
    "name": "ipython",
    "version": 3
   },
   "file_extension": ".py",
   "mimetype": "text/x-python",
   "name": "python",
   "nbconvert_exporter": "python",
   "pygments_lexer": "ipython3",
   "version": "3.9.12"
  }
 },
 "nbformat": 4,
 "nbformat_minor": 5
}
